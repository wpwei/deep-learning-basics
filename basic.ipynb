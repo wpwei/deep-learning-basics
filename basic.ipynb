{
 "nbformat": 4,
 "nbformat_minor": 2,
 "metadata": {
  "language_info": {
   "name": "python",
   "codemirror_mode": {
    "name": "ipython",
    "version": 3
   },
   "version": "3.7.6-final"
  },
  "orig_nbformat": 2,
  "file_extension": ".py",
  "mimetype": "text/x-python",
  "name": "python",
  "npconvert_exporter": "python",
  "pygments_lexer": "ipython3",
  "version": 3,
  "kernelspec": {
   "name": "python3",
   "display_name": "Python 3"
  }
 },
 "cells": [
  {
   "cell_type": "code",
   "execution_count": 1,
   "metadata": {},
   "outputs": [],
   "source": [
    "import torch"
   ]
  },
  {
   "cell_type": "markdown",
   "metadata": {},
   "source": [
    "### Hyper-Parameters\n",
    "\n",
    "$N$: batch size  \n",
    "$D$: feature dimension  \n",
    "$H$: hidden dimension  \n",
    "$O$: output dimension\n",
    "\n",
    "### Input tensors:  \n",
    "\n",
    "Features: $ X \\in \\mathbb{R}^{N \\times D}$  \n",
    "Labels: $ Y \\in \\mathbb{R}^{N \\times 1}$\n",
    "\n",
    "### Parameters to learn:\n",
    "\n",
    "Hidden layer: weight $W_h \\in \\mathbb{R}^{D \\times H}$, bias $B_h \\in \\mathbb{R}^{1 \\times H}$  \n",
    "Output layer: weight $W_o \\in \\mathbb{R}^{H \\times O}$, bias $B_h \\in \\mathbb{R}^{1 \\times O}$\n",
    "\n",
    "### Forward\n",
    "\n",
    "\\begin{align} \n",
    "Z_h &= X W_h + \\mathbf{1}_N \\cdot B_h \\\\\n",
    "A_h &= \\frac{1}{1 + \\exp{(-Z_h)}} \\\\\n",
    "Z_o &= A_h W_o + \\mathbf{1}_N \\cdot B_o \\\\\n",
    "A_o &= \\frac{\\exp(Z_o)}{\\exp(Z_o) \\cdot \\mathbf{1}_O \\cdot \\mathbf{1}_O^T} \\\\\n",
    "\\ell &= \\frac{ (-Y \\odot \\log(A_o) \\cdot \\mathbf{1}_O)^T \\cdot \\mathbf{1}_N }{N}\n",
    "\\end{align}"
   ]
  },
  {
   "cell_type": "markdown",
   "metadata": {},
   "source": [
    "### Back propagation\n",
    "\n",
    "For $\\frac{\\partial \\ell}{\\partial A_o}$:\n",
    "$$\n",
    "\\begin{align}\n",
    "d\\ell &= \\frac{1}{N} tr \\left( \\left(-Y \\odot d\\left(\\log \\left( A_o \\right) \\right) \\cdot \\mathbf{1}_O \\right)^T \\cdot \\mathbf{1}_N\\right) \\\\\n",
    "&= \\frac{1}{N} tr \\left( \\left(-Y \\odot (\\log'(A_o) \\odot dA_o) \\cdot \\mathbf{1}_O \\right)^T \\cdot \\mathbf{1}_N \\right) \\\\\n",
    "&= \\frac{1}{N} tr \\left( \\mathbf{1}_N^T \\cdot  \\left(-Y \\odot (\\log'(A_o) \\odot dA_o) \\cdot \\mathbf{1}_O \\right) \\right) \\\\\n",
    "&= \\frac{1}{N} tr \\left( \\mathbf{1}_O \\cdot \\mathbf{1}_N^T \\cdot  \\left(-Y \\odot \\log'(A_o) \\odot dA_o \\right) \\right) \\\\\n",
    "&= \\frac{1}{N} tr \\left( (\\mathbf{1}_N \\cdot \\mathbf{1}_O^T )^T \\cdot  \\left(-Y \\odot \\log'(A_o) \\right)  \\odot dA_o \\right) \\\\\n",
    "&= \\frac{1}{N} tr \\left( \\left( \\left(\\mathbf{1}_N \\cdot \\mathbf{1}_O^T \\right)  \\odot  \\left(-Y \\odot \\log'(A_o) \\right) \\right)^T  \\cdot dA_o \\right) \\\\\n",
    "&= \\frac{1}{N} tr \\left( \\left(  -Y \\oslash A_o  \\right)^T  \\cdot dA_o \\right) \\\\\n",
    "&=  (  -\\frac{1}{N} Y \\oslash A_o  )^T  \\cdot dA_o   = (\\frac{\\partial \\ell}{\\partial A_o})^TdA_o \\\\\n",
    "\\end{align}\n",
    "$$\n",
    "$$\\Rightarrow \\frac{\\partial \\ell}{\\partial A_o} = -\\frac{1}{N} Y \\oslash A_o $$\n",
    "\n",
    "\n",
    "\n",
    "\n",
    "\n",
    "\n",
    "\n"
   ]
  },
  {
   "cell_type": "code",
   "execution_count": 63,
   "metadata": {},
   "outputs": [
    {
     "output_type": "stream",
     "name": "stdout",
     "text": "tensor([[1.0000, 1.0000, 1.0000],\n        [1.0000, 1.0000, 1.0000],\n        [1.0000, 1.0000, 1.0000],\n        [1.0000, 1.0000, 1.0000],\n        [1.0000, 1.0000, 1.0000],\n        [1.0000, 1.0000, 1.0000],\n        [1.0000, 1.0000, 1.0000],\n        [1.0000, 1.0000, 1.0000],\n        [1.0000, 1.0000, 1.0000],\n        [1.0000, 1.0000, 1.0000]], grad_fn=<DivBackward0>)\n"
    }
   ],
   "source": [
    "N = 10\n",
    "D = 2\n",
    "H = 5\n",
    "O = 3\n",
    "\n",
    "x = torch.rand([N, D])\n",
    "y = torch.rand([N, 1])\n",
    "y.requires_grad_()\n",
    "\n",
    "z_o = torch.rand([N, O])\n",
    "z_o.requires_grad_()\n",
    "\n",
    "a_o = torch.exp(z_o) / ( torch.matmul(torch.matmul(torch.exp(z_o), torch.ones([O, 1])), torch.ones(1, O)))\n",
    "l = torch.matmul(torch.matmul(-y * torch.log(a_o), torch.ones([O, 1])).T, torch.ones([N, 1])) / N\n",
    "\n",
    "dl_da = -y / a_o / N\n",
    "print(dl_da / torch.autograd.grad(l, a_o)[0])\n",
    "\n",
    "\n"
   ]
  },
  {
   "cell_type": "code",
   "execution_count": null,
   "metadata": {},
   "outputs": [],
   "source": []
  }
 ]
}